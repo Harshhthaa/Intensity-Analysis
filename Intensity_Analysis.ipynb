{
  "nbformat": 4,
  "nbformat_minor": 0,
  "metadata": {
    "colab": {
      "provenance": []
    },
    "kernelspec": {
      "name": "python3",
      "display_name": "Python 3"
    },
    "language_info": {
      "name": "python"
    }
  },
  "cells": [
    {
      "cell_type": "code",
      "execution_count": null,
      "metadata": {
        "colab": {
          "base_uri": "https://localhost:8080/"
        },
        "id": "FR4sNG4b-ThW",
        "outputId": "967e853c-2ba2-46bd-c4b3-a0823e3f2c5f"
      },
      "outputs": [
        {
          "output_type": "stream",
          "name": "stderr",
          "text": [
            "[nltk_data] Downloading package stopwords to /root/nltk_data...\n",
            "[nltk_data]   Unzipping corpora/stopwords.zip.\n",
            "[nltk_data] Downloading package punkt to /root/nltk_data...\n",
            "[nltk_data]   Unzipping tokenizers/punkt.zip.\n",
            "[nltk_data] Downloading package wordnet to /root/nltk_data...\n",
            "[nltk_data] Downloading package averaged_perceptron_tagger to\n",
            "[nltk_data]     /root/nltk_data...\n",
            "[nltk_data]   Unzipping taggers/averaged_perceptron_tagger.zip.\n"
          ]
        },
        {
          "output_type": "execute_result",
          "data": {
            "text/plain": [
              "True"
            ]
          },
          "metadata": {},
          "execution_count": 4
        }
      ],
      "source": [
        "import pandas as pd\n",
        "import numpy as np\n",
        "import re\n",
        "import nltk\n",
        "from nltk.corpus import stopwords\n",
        "from nltk.tokenize import word_tokenize\n",
        "from nltk.stem import WordNetLemmatizer, PorterStemmer\n",
        "from unidecode import unidecode\n",
        "from sklearn.model_selection import train_test_split\n",
        "from sklearn.feature_extraction.text import TfidfVectorizer\n",
        "import nltk\n",
        "from collections import Counter\n",
        "from textblob import TextBlob\n",
        "import gensim.downloader as api\n",
        "from scipy.sparse import hstack\n",
        "import matplotlib.pyplot as plt\n",
        "import seaborn as sns\n",
        "\n",
        "\n",
        "nltk.download('stopwords')\n",
        "nltk.download('punkt')\n",
        "nltk.download('wordnet')\n",
        "nltk.download('averaged_perceptron_tagger')"
      ]
    },
    {
      "cell_type": "code",
      "source": [
        "from sklearn.feature_extraction.text import TfidfVectorizer"
      ],
      "metadata": {
        "id": "hnRhIt2ICXsm"
      },
      "execution_count": null,
      "outputs": []
    },
    {
      "cell_type": "code",
      "source": [
        "!pip install unidecode"
      ],
      "metadata": {
        "colab": {
          "base_uri": "https://localhost:8080/"
        },
        "id": "V9xJGxzB-jv2",
        "outputId": "0fbf84b4-5499-4b30-97c8-d0e9f00d8f03"
      },
      "execution_count": null,
      "outputs": [
        {
          "output_type": "stream",
          "name": "stdout",
          "text": [
            "Requirement already satisfied: unidecode in /usr/local/lib/python3.10/dist-packages (1.3.8)\n"
          ]
        }
      ]
    },
    {
      "cell_type": "markdown",
      "source": [
        "# **Data** **Preprocessing**"
      ],
      "metadata": {
        "id": "B_PC8ujiCxK2"
      }
    },
    {
      "cell_type": "code",
      "source": [
        "angry_df = pd.read_csv('/content/angriness.csv')\n",
        "happy_df = pd.read_csv('/content/happiness.csv')\n",
        "sad_df = pd.read_csv('/content/sadness.csv')"
      ],
      "metadata": {
        "id": "KxxjaDJh-jym"
      },
      "execution_count": null,
      "outputs": []
    },
    {
      "cell_type": "code",
      "source": [
        "# Explore each dataset\n",
        "print(angry_df.info())\n",
        "print(angry_df.describe())\n",
        "print(angry_df.head())"
      ],
      "metadata": {
        "colab": {
          "base_uri": "https://localhost:8080/"
        },
        "id": "DofgDV9f-j08",
        "outputId": "d1f1c961-096d-49bf-fa8f-1c16a2c3c47b"
      },
      "execution_count": null,
      "outputs": [
        {
          "output_type": "stream",
          "name": "stdout",
          "text": [
            "<class 'pandas.core.frame.DataFrame'>\n",
            "RangeIndex: 696 entries, 0 to 695\n",
            "Data columns (total 2 columns):\n",
            " #   Column     Non-Null Count  Dtype \n",
            "---  ------     --------------  ----- \n",
            " 0   content    696 non-null    object\n",
            " 1   intensity  696 non-null    object\n",
            "dtypes: object(2)\n",
            "memory usage: 11.0+ KB\n",
            "None\n",
            "                                                  content  intensity\n",
            "count                                                 696        696\n",
            "unique                                                498          1\n",
            "top     ['Hating Me Won’T Make You Pretty.', 'Anger Is...  angriness\n",
            "freq                                                  100        696\n",
            "                                             content  intensity\n",
            "0  Sometimes I’m not angry, I’m hurt and there’s ...  angriness\n",
            "1                     Not available for busy people☺  angriness\n",
            "2  I do not exist to impress the world. I exist t...  angriness\n",
            "3  Everything is getting expensive except some pe...  angriness\n",
            "4       My phone screen is brighter than my future 🙁  angriness\n"
          ]
        }
      ]
    },
    {
      "cell_type": "code",
      "source": [
        "print(happy_df.info())\n",
        "print(happy_df.describe())\n",
        "print(happy_df.head())"
      ],
      "metadata": {
        "colab": {
          "base_uri": "https://localhost:8080/"
        },
        "id": "l_UZkrJ1-j3U",
        "outputId": "5ffba099-e74d-47cd-d1c5-08018b2834de"
      },
      "execution_count": null,
      "outputs": [
        {
          "output_type": "stream",
          "name": "stdout",
          "text": [
            "<class 'pandas.core.frame.DataFrame'>\n",
            "RangeIndex: 708 entries, 0 to 707\n",
            "Data columns (total 2 columns):\n",
            " #   Column     Non-Null Count  Dtype \n",
            "---  ------     --------------  ----- \n",
            " 0   content    708 non-null    object\n",
            " 1   intensity  708 non-null    object\n",
            "dtypes: object(2)\n",
            "memory usage: 11.2+ KB\n",
            "None\n",
            "                                                  content  intensity\n",
            "count                                                 708        708\n",
            "unique                                                704          1\n",
            "top     Its nice when someone cares about you as much ...  happiness\n",
            "freq                                                    2        708\n",
            "                                             content  intensity\n",
            "0  Wants to know how the hell I can remember word...  happiness\n",
            "1  Love is a long sweet dream & marriage is an al...  happiness\n",
            "2  The world could be amazing when you are slight...  happiness\n",
            "3  My secret talent is getting tired without doin...  happiness\n",
            "4  Khatarnaak Whatsapp Status Ever… Can\\’t talk, ...  happiness\n"
          ]
        }
      ]
    },
    {
      "cell_type": "code",
      "source": [
        "print(sad_df.info())\n",
        "print(sad_df.describe())\n",
        "print(sad_df.head())"
      ],
      "metadata": {
        "colab": {
          "base_uri": "https://localhost:8080/"
        },
        "id": "Np6iXf9P-j5z",
        "outputId": "1789fbe7-8aba-475f-8f16-aaea8e957a57"
      },
      "execution_count": null,
      "outputs": [
        {
          "output_type": "stream",
          "name": "stdout",
          "text": [
            "<class 'pandas.core.frame.DataFrame'>\n",
            "RangeIndex: 635 entries, 0 to 634\n",
            "Data columns (total 2 columns):\n",
            " #   Column     Non-Null Count  Dtype \n",
            "---  ------     --------------  ----- \n",
            " 0   content    635 non-null    object\n",
            " 1   intensity  635 non-null    object\n",
            "dtypes: object(2)\n",
            "memory usage: 10.0+ KB\n",
            "None\n",
            "                                                  content intensity\n",
            "count                                                 635       635\n",
            "unique                                                390         1\n",
            "top     ['You Hurt Me But I Still Love You.', 'True Lo...   sadness\n",
            "freq                                                  134       635\n",
            "                                             content intensity\n",
            "0  Never hurt people who love you a lot, because ...   sadness\n",
            "1  Don’t expect me to tell you what you did wrong...   sadness\n",
            "2  I preferred walking away than fighting for you...   sadness\n",
            "3  Moving forward in life isn’t the hard part, it...   sadness\n",
            "4  Never cry for anyone in your life, because tho...   sadness\n"
          ]
        }
      ]
    },
    {
      "cell_type": "code",
      "source": [
        "# Check for missing values\n",
        "print(angry_df.isnull().sum())\n",
        "print(happy_df.isnull().sum())\n",
        "print(sad_df.isnull().sum())"
      ],
      "metadata": {
        "colab": {
          "base_uri": "https://localhost:8080/"
        },
        "id": "2HWyZ1iD-j8c",
        "outputId": "1f7f4265-ca11-4c67-8381-5ff4f2aca684"
      },
      "execution_count": null,
      "outputs": [
        {
          "output_type": "stream",
          "name": "stdout",
          "text": [
            "content      0\n",
            "intensity    0\n",
            "dtype: int64\n",
            "content      0\n",
            "intensity    0\n",
            "dtype: int64\n",
            "content      0\n",
            "intensity    0\n",
            "dtype: int64\n"
          ]
        }
      ]
    },
    {
      "cell_type": "code",
      "source": [
        "def preprocess_text(text):\n",
        "    # Step 1: Text Decoding\n",
        "    text = unidecode(text)\n",
        "\n",
        "    # Step 2: Lowercasing\n",
        "    text = text.lower()\n",
        "\n",
        "    # Step 3: Removing special characters, numbers, and punctuations\n",
        "    text = re.sub(r'\\W', ' ', text)\n",
        "    text = re.sub(r'\\d+', '', text)\n",
        "    text = re.sub(r'\\s+', ' ', text).strip()\n",
        "\n",
        "    # Step 4: Tokenization\n",
        "    tokens = word_tokenize(text)\n",
        "\n",
        "    # Step 5: Stopword Removal\n",
        "    tokens = [word for word in tokens if word not in stopwords.words('english')]\n",
        "\n",
        "    # Step 6: Lemmatization/Stemming\n",
        "    lemmatizer = WordNetLemmatizer()\n",
        "    stemmer = PorterStemmer()\n",
        "    tokens = [lemmatizer.lemmatize(word) for word in tokens]  # Use stemming if required\n",
        "\n",
        "    # Step 7: Join tokens back to a single string\n",
        "    return ' '.join(tokens)\n",
        "\n",
        "# Applying preprocessing to each dataset\n",
        "angry_df['cleaned_text'] = angry_df['content'].apply(preprocess_text)\n",
        "happy_df['cleaned_text'] = happy_df['content'].apply(preprocess_text)\n",
        "sad_df['cleaned_text'] = sad_df['content'].apply(preprocess_text)\n"
      ],
      "metadata": {
        "id": "e2UPZ8vX-j-9"
      },
      "execution_count": null,
      "outputs": []
    },
    {
      "cell_type": "code",
      "source": [
        "# Count the number of samples in each dataset\n",
        "angry_df['label'] = 'angry'\n",
        "happy_df['label'] = 'happy'\n",
        "sad_df['label'] = 'sad'\n",
        "\n",
        "sns.countplot(x='label', data=pd.concat([angry_df, happy_df, sad_df]),hue='label')\n",
        "plt.xlabel('Class')\n",
        "plt.ylabel('Count')\n",
        "plt.title('Distribution of Classes')\n",
        "plt.show()"
      ],
      "metadata": {
        "colab": {
          "base_uri": "https://localhost:8080/",
          "height": 472
        },
        "id": "g4eC0jzD-kBL",
        "outputId": "be3497e8-2a20-499d-9f91-302cb17434c3"
      },
      "execution_count": null,
      "outputs": [
        {
          "output_type": "display_data",
          "data": {
            "text/plain": [
              "<Figure size 640x480 with 1 Axes>"
            ],
            "image/png": "[encoded data removed]"
          },
          "metadata": {}
        }
      ]
    },
    {
      "cell_type": "code",
      "source": [
        "# Text length distribution\n",
        "angry_df['text_length'] = angry_df['cleaned_text'].apply(len)\n",
        "happy_df['text_length'] = happy_df['cleaned_text'].apply(len)\n",
        "sad_df['text_length'] = sad_df['cleaned_text'].apply(len)\n",
        "\n",
        "# Plotting text length distribution\n",
        "plt.figure(figsize=(12, 6))\n",
        "sns.histplot(angry_df['text_length'], kde=True, label='Angriness', color='red')\n",
        "sns.histplot(happy_df['text_length'], kde=True, label='Happiness', color='green')\n",
        "sns.histplot(sad_df['text_length'], kde=True, label='Sadness', color='blue')\n",
        "plt.legend()\n",
        "plt.title('Text Length Distribution by Emotion')\n",
        "plt.show()\n"
      ],
      "metadata": {
        "colab": {
          "base_uri": "https://localhost:8080/",
          "height": 546
        },
        "id": "gnLG7bG_-kD5",
        "outputId": "f4b8798a-71a1-4d40-e619-140375240360"
      },
      "execution_count": null,
      "outputs": [
        {
          "output_type": "display_data",
          "data": {
            "text/plain": [
              "<Figure size 1200x600 with 1 Axes>"
            ],
            "image/png": "[encoded data removed]"
          },
          "metadata": {}
        }
      ]
    },
    {
      "cell_type": "code",
      "source": [
        "# Combining the datasets into a single DataFrame\n",
        "combined_df = pd.concat([angry_df, happy_df, sad_df], ignore_index=True)"
      ],
      "metadata": {
        "id": "VZBWX7Wx-kHb"
      },
      "execution_count": null,
      "outputs": []
    },
    {
      "cell_type": "code",
      "source": [
        "# Extracting features and labels\n",
        "X = combined_df['cleaned_text']\n",
        "y = combined_df['label']"
      ],
      "metadata": {
        "id": "99RKFSVGCMbX"
      },
      "execution_count": null,
      "outputs": []
    },
    {
      "cell_type": "code",
      "source": [
        "# Vectorization\n",
        "vectorizer = TfidfVectorizer(max_features=5000)\n",
        "X_vectorized = vectorizer.fit_transform(X)"
      ],
      "metadata": {
        "id": "_dHXqG6hCOi4"
      },
      "execution_count": null,
      "outputs": []
    },
    {
      "cell_type": "code",
      "source": [
        "# Splitting the data into training and testing sets\n",
        "X_train, X_test, y_train, y_test = train_test_split(X_vectorized, y,\n",
        "                                                    test_size=0.2,\n",
        "                                                    random_state=42,\n",
        "                                                    stratify=y)"
      ],
      "metadata": {
        "id": "rYoH9gjpCexZ"
      },
      "execution_count": null,
      "outputs": []
    },
    {
      "cell_type": "code",
      "source": [
        "# Displaying some of the preprocessed data\n",
        "print(\"Training data size:\", X_train.shape)\n",
        "print(\"Test data size:\", X_test.shape)"
      ],
      "metadata": {
        "colab": {
          "base_uri": "https://localhost:8080/"
        },
        "id": "ESW9VNXJCeuA",
        "outputId": "2c4a7e66-382e-4161-882f-e6f8a9d5cb28"
      },
      "execution_count": null,
      "outputs": [
        {
          "output_type": "stream",
          "name": "stdout",
          "text": [
            "Training data size: (1631, 2151)\n",
            "Test data size: (408, 2151)\n"
          ]
        }
      ]
    },
    {
      "cell_type": "markdown",
      "source": [
        "# **Feature Engineering**"
      ],
      "metadata": {
        "id": "KZpnuTApDBYu"
      }
    },
    {
      "cell_type": "code",
      "source": [
        "def pos_tagging(text):\n",
        "    tokens = nltk.word_tokenize(text)\n",
        "    pos_tags = nltk.pos_tag(tokens)\n",
        "    pos_counts = Counter(tag for word, tag in pos_tags)\n",
        "    return pos_counts\n",
        "\n",
        "# Apply POS tagging and extract features\n",
        "combined_df['pos_tags'] = combined_df['cleaned_text'].apply(pos_tagging)\n",
        "\n",
        "# Convert POS tag counts to features\n",
        "pos_df = pd.DataFrame(list(combined_df['pos_tags']))\n",
        "pos_df = pos_df.fillna(0)\n",
        "\n",
        "print(\"POS tagging feature matrix shape:\", pos_df.shape)"
      ],
      "metadata": {
        "colab": {
          "base_uri": "https://localhost:8080/"
        },
        "id": "pSRq3c4zDGk0",
        "outputId": "c2b15981-f22d-40bd-92d6-cba184781032"
      },
      "execution_count": null,
      "outputs": [
        {
          "output_type": "stream",
          "name": "stdout",
          "text": [
            "POS tagging feature matrix shape: (2039, 29)\n"
          ]
        }
      ]
    },
    {
      "cell_type": "code",
      "source": [
        "def get_sentiment(text):\n",
        "    blob = TextBlob(text)\n",
        "    sentiment_polarity = blob.sentiment.polarity\n",
        "    sentiment_subjectivity = blob.sentiment.subjectivity\n",
        "    return sentiment_polarity, sentiment_subjectivity\n",
        "\n",
        "# Extract sentiment features\n",
        "combined_df['polarity'], combined_df['subjectivity'] = zip(*combined_df['cleaned_text'].apply(get_sentiment))\n",
        "\n",
        "print(\"Sentiment feature example:\")\n",
        "print(combined_df[['polarity', 'subjectivity']].head())"
      ],
      "metadata": {
        "colab": {
          "base_uri": "https://localhost:8080/"
        },
        "id": "vLw6cuwLDGoS",
        "outputId": "d1659d7b-82f9-4811-cb02-4be32ecf8d0e"
      },
      "execution_count": null,
      "outputs": [
        {
          "output_type": "stream",
          "name": "stdout",
          "text": [
            "Sentiment feature example:\n",
            "   polarity  subjectivity\n",
            "0 -0.250000         0.550\n",
            "1  0.250000         0.350\n",
            "2  0.468182         0.750\n",
            "3 -0.500000         0.700\n",
            "4  0.000000         0.125\n"
          ]
        }
      ]
    },
    {
      "cell_type": "code",
      "source": [
        "#wv = api.load('word2vec-google-news-300')"
      ],
      "metadata": {
        "id": "RvzDAhe4-WJb"
      },
      "execution_count": null,
      "outputs": []
    },
    {
      "cell_type": "code",
      "source": [
        "wv = api.load('glove-wiki-gigaword-50')"
      ],
      "metadata": {
        "colab": {
          "base_uri": "https://localhost:8080/"
        },
        "id": "fuwFM124AoI9",
        "outputId": "b44ab34c-7909-4d2c-8a98-662b333deb96"
      },
      "execution_count": null,
      "outputs": [
        {
          "output_type": "stream",
          "name": "stdout",
          "text": [
            "[==================================================] 100.0% 66.0/66.0MB downloaded\n"
          ]
        }
      ]
    },
    {
      "cell_type": "code",
      "source": [
        "# Since you've loaded 'glove-wiki-gigaword-50', update k to 50\n",
        "def get_average_word2vec(tokens_list, vector, generate_missing=False, k=50):\n",
        "    if len(tokens_list) < 1:\n",
        "        return np.zeros(k)\n",
        "    vectorized = [vector[word] if word in vector else np.random.rand(k) for word in tokens_list]\n",
        "    return np.mean(vectorized, axis=0)\n",
        "\n",
        "combined_df['cleaned_tokens'] = combined_df['cleaned_text'].apply(word_tokenize)\n",
        "combined_df['word2vec'] = combined_df['cleaned_tokens'].apply(lambda x: get_average_word2vec(x, wv))\n",
        "\n",
        "print(\"Word2Vec feature example:\")\n",
        "print(combined_df['word2vec'].head())"
      ],
      "metadata": {
        "colab": {
          "base_uri": "https://localhost:8080/"
        },
        "id": "XtE029RCDGtU",
        "outputId": "399a0926-972e-41a8-a060-3b9cfbde48a3"
      },
      "execution_count": null,
      "outputs": [
        {
          "output_type": "stream",
          "name": "stdout",
          "text": [
            "Word2Vec feature example:\n",
            "0    [-0.007876996, -0.11141659, 0.12711, -0.30275,...\n",
            "1    [0.72399, -0.013186674, 0.33347, -0.30585, 0.1...\n",
            "2    [0.33350956, 0.32108513, -0.22690246, -0.09532...\n",
            "3    [0.305774, -0.30088857, 0.28707203, -0.4602334...\n",
            "4    [0.45101798, 0.38608676, 0.81366, 0.19924626, ...\n",
            "Name: word2vec, dtype: object\n"
          ]
        }
      ]
    },
    {
      "cell_type": "code",
      "source": [
        "from scipy.sparse import csr_matrix, hstack\n",
        "\n",
        "# Converting dense features to sparse matrices\n",
        "pos_features = csr_matrix(pos_df.values)\n",
        "sentiment_features = csr_matrix(combined_df[['polarity', 'subjectivity']].values)\n",
        "word2vec_features = csr_matrix(np.array(combined_df['word2vec'].tolist()))\n",
        "\n",
        "# Combine all features\n",
        "combined_features = hstack([X_vectorized, pos_features, sentiment_features, word2vec_features])\n",
        "\n",
        "print(\"Combined feature matrix shape:\", combined_features.shape)\n"
      ],
      "metadata": {
        "id": "n9CAmFvFFRXB",
        "colab": {
          "base_uri": "https://localhost:8080/"
        },
        "outputId": "1d60f788-de6f-416a-d269-4507d9c3dc5f"
      },
      "execution_count": null,
      "outputs": [
        {
          "output_type": "stream",
          "name": "stdout",
          "text": [
            "Combined feature matrix shape: (2039, 2232)\n"
          ]
        }
      ]
    },
    {
      "cell_type": "markdown",
      "source": [
        "## **Model Fitting**"
      ],
      "metadata": {
        "id": "PibY4UL4Fr_K"
      }
    },
    {
      "cell_type": "code",
      "source": [
        "from sklearn.svm import SVC\n",
        "from sklearn.metrics import classification_report, confusion_matrix, accuracy_score"
      ],
      "metadata": {
        "id": "FhOgI2IXFrfe"
      },
      "execution_count": null,
      "outputs": []
    },
    {
      "cell_type": "code",
      "source": [
        "# Initialize the SVC model\n",
        "svc_model = SVC(random_state=42)"
      ],
      "metadata": {
        "id": "Ds2SG6QMF12O"
      },
      "execution_count": null,
      "outputs": []
    },
    {
      "cell_type": "code",
      "source": [
        "# Train the model\n",
        "svc_model.fit(X_train, y_train)"
      ],
      "metadata": {
        "colab": {
          "base_uri": "https://localhost:8080/",
          "height": 74
        },
        "id": "sgPfQOpwF1y1",
        "outputId": "1cbf0136-eb7e-42bd-8c27-c4ed7b84eb2a"
      },
      "execution_count": null,
      "outputs": [
        {
          "output_type": "execute_result",
          "data": {
            "text/plain": [
              "SVC(random_state=42)"
            ],
            "text/html": [
              "<style>#sk-container-id-4 {color: black;}#sk-container-id-4 pre{padding: 0;}#sk-container-id-4 div.sk-toggleable {background-color: white;}#sk-container-id-4 label.sk-toggleable__label {cursor: pointer;display: block;width: 100%;margin-bottom: 0;padding: 0.3em;box-sizing: border-box;text-align: center;}#sk-container-id-4 label.sk-toggleable__label-arrow:before {content: \"▸\";float: left;margin-right: 0.25em;color: #696969;}#sk-container-id-4 label.sk-toggleable__label-arrow:hover:before {color: black;}#sk-container-id-4 div.sk-estimator:hover label.sk-toggleable__label-arrow:before {color: black;}#sk-container-id-4 div.sk-toggleable__content {max-height: 0;max-width: 0;overflow: hidden;text-align: left;background-color: #f0f8ff;}#sk-container-id-4 div.sk-toggleable__content pre {margin: 0.2em;color: black;border-radius: 0.25em;background-color: #f0f8ff;}#sk-container-id-4 input.sk-toggleable__control:checked~div.sk-toggleable__content {max-height: 200px;max-width: 100%;overflow: auto;}#sk-container-id-4 input.sk-toggleable__control:checked~label.sk-toggleable__label-arrow:before {content: \"▾\";}#sk-container-id-4 div.sk-estimator input.sk-toggleable__control:checked~label.sk-toggleable__label {background-color: #d4ebff;}#sk-container-id-4 div.sk-label input.sk-toggleable__control:checked~label.sk-toggleable__label {background-color: #d4ebff;}#sk-container-id-4 input.sk-hidden--visually {border: 0;clip: rect(1px 1px 1px 1px);clip: rect(1px, 1px, 1px, 1px);height: 1px;margin: -1px;overflow: hidden;padding: 0;position: absolute;width: 1px;}#sk-container-id-4 div.sk-estimator {font-family: monospace;background-color: #f0f8ff;border: 1px dotted black;border-radius: 0.25em;box-sizing: border-box;margin-bottom: 0.5em;}#sk-container-id-4 div.sk-estimator:hover {background-color: #d4ebff;}#sk-container-id-4 div.sk-parallel-item::after {content: \"\";width: 100%;border-bottom: 1px solid gray;flex-grow: 1;}#sk-container-id-4 div.sk-label:hover label.sk-toggleable__label {background-color: #d4ebff;}#sk-container-id-4 div.sk-serial::before {content: \"\";position: absolute;border-left: 1px solid gray;box-sizing: border-box;top: 0;bottom: 0;left: 50%;z-index: 0;}#sk-container-id-4 div.sk-serial {display: flex;flex-direction: column;align-items: center;background-color: white;padding-right: 0.2em;padding-left: 0.2em;position: relative;}#sk-container-id-4 div.sk-item {position: relative;z-index: 1;}#sk-container-id-4 div.sk-parallel {display: flex;align-items: stretch;justify-content: center;background-color: white;position: relative;}#sk-container-id-4 div.sk-item::before, #sk-container-id-4 div.sk-parallel-item::before {content: \"\";position: absolute;border-left: 1px solid gray;box-sizing: border-box;top: 0;bottom: 0;left: 50%;z-index: -1;}#sk-container-id-4 div.sk-parallel-item {display: flex;flex-direction: column;z-index: 1;position: relative;background-color: white;}#sk-container-id-4 div.sk-parallel-item:first-child::after {align-self: flex-end;width: 50%;}#sk-container-id-4 div.sk-parallel-item:last-child::after {align-self: flex-start;width: 50%;}#sk-container-id-4 div.sk-parallel-item:only-child::after {width: 0;}#sk-container-id-4 div.sk-dashed-wrapped {border: 1px dashed gray;margin: 0 0.4em 0.5em 0.4em;box-sizing: border-box;padding-bottom: 0.4em;background-color: white;}#sk-container-id-4 div.sk-label label {font-family: monospace;font-weight: bold;display: inline-block;line-height: 1.2em;}#sk-container-id-4 div.sk-label-container {text-align: center;}#sk-container-id-4 div.sk-container {/* jupyter's `normalize.less` sets `[hidden] { display: none; }` but bootstrap.min.css set `[hidden] { display: none !important; }` so we also need the `!important` here to be able to override the default hidden behavior on the sphinx rendered scikit-learn.org. See: https://github.com/scikit-learn/scikit-learn/issues/21755 */display: inline-block !important;position: relative;}#sk-container-id-4 div.sk-text-repr-fallback {display: none;}</style><div id=\"sk-container-id-4\" class=\"sk-top-container\"><div class=\"sk-text-repr-fallback\"><pre>SVC(random_state=42)</pre><b>In a Jupyter environment, please rerun this cell to show the HTML representation or trust the notebook. <br />On GitHub, the HTML representation is unable to render, please try loading this page with nbviewer.org.</b></div><div class=\"sk-container\" hidden><div class=\"sk-item\"><div class=\"sk-estimator sk-toggleable\"><input class=\"sk-toggleable__control sk-hidden--visually\" id=\"sk-estimator-id-8\" type=\"checkbox\" checked><label for=\"sk-estimator-id-8\" class=\"sk-toggleable__label sk-toggleable__label-arrow\">SVC</label><div class=\"sk-toggleable__content\"><pre>SVC(random_state=42)</pre></div></div></div></div></div>"
            ]
          },
          "metadata": {},
          "execution_count": 47
        }
      ]
    },
    {
      "cell_type": "code",
      "source": [
        "# Make predictions\n",
        "y_pred = svc_model.predict(X_test)"
      ],
      "metadata": {
        "id": "m_snZq-gF44j"
      },
      "execution_count": null,
      "outputs": []
    },
    {
      "cell_type": "code",
      "source": [
        "# Evaluate the model\n",
        "print(\"Accuracy:\", accuracy_score(y_test, y_pred))\n",
        "print(\"Classification Report:\\n\", classification_report(y_test, y_pred))\n",
        "print(\"Confusion Matrix:\\n\", confusion_matrix(y_test, y_pred))"
      ],
      "metadata": {
        "colab": {
          "base_uri": "https://localhost:8080/"
        },
        "id": "RXBbj-amF6lC",
        "outputId": "c7469899-808e-42c2-c586-9f8cf1a6ab6f"
      },
      "execution_count": null,
      "outputs": [
        {
          "output_type": "stream",
          "name": "stdout",
          "text": [
            "Accuracy: 0.821078431372549\n",
            "Classification Report:\n",
            "               precision    recall  f1-score   support\n",
            "\n",
            "       angry       0.87      0.83      0.85       139\n",
            "       happy       0.74      0.89      0.81       142\n",
            "         sad       0.89      0.72      0.80       127\n",
            "\n",
            "    accuracy                           0.82       408\n",
            "   macro avg       0.83      0.82      0.82       408\n",
            "weighted avg       0.83      0.82      0.82       408\n",
            "\n",
            "Confusion Matrix:\n",
            " [[116  21   2]\n",
            " [  6 127   9]\n",
            " [ 11  24  92]]\n"
          ]
        }
      ]
    },
    {
      "cell_type": "markdown",
      "source": [
        "## **Hyperparameter Tuning for SVC**"
      ],
      "metadata": {
        "id": "N6A6cvNUGN0i"
      }
    },
    {
      "cell_type": "code",
      "source": [
        "from sklearn.model_selection import GridSearchCV"
      ],
      "metadata": {
        "id": "pznCgLzZGbgN"
      },
      "execution_count": null,
      "outputs": []
    },
    {
      "cell_type": "code",
      "source": [
        "# Define the parameter grid\n",
        "param_grid = {\n",
        "    'C': [0.01, 0.1, 1, 10, 100],\n",
        "    'gamma': [0.001, 0.01, 0.1, 1, 10],\n",
        "    'kernel': ['linear', 'rbf']\n",
        "}"
      ],
      "metadata": {
        "id": "mCZNStdeGgcx"
      },
      "execution_count": null,
      "outputs": []
    },
    {
      "cell_type": "code",
      "source": [
        "# Set up GridSearchCV\n",
        "grid_search = GridSearchCV(SVC(random_state=42), param_grid, cv=5, scoring='accuracy', n_jobs=-1, verbose=2)"
      ],
      "metadata": {
        "id": "rq-BxyDFGgOb"
      },
      "execution_count": null,
      "outputs": []
    },
    {
      "cell_type": "code",
      "source": [
        "# Fit GridSearchCV\n",
        "grid_search.fit(X_train, y_train)"
      ],
      "metadata": {
        "colab": {
          "base_uri": "https://localhost:8080/",
          "height": 134
        },
        "id": "Ht38ISpJGgLE",
        "outputId": "90796b70-c843-436d-d55c-d055990d8cfb"
      },
      "execution_count": null,
      "outputs": [
        {
          "output_type": "stream",
          "name": "stdout",
          "text": [
            "Fitting 5 folds for each of 50 candidates, totalling 250 fits\n"
          ]
        },
        {
          "output_type": "execute_result",
          "data": {
            "text/plain": [
              "GridSearchCV(cv=5, estimator=SVC(random_state=42), n_jobs=-1,\n",
              "             param_grid={'C': [0.01, 0.1, 1, 10, 100],\n",
              "                         'gamma': [0.001, 0.01, 0.1, 1, 10],\n",
              "                         'kernel': ['linear', 'rbf']},\n",
              "             scoring='accuracy', verbose=2)"
            ],
            "text/html": [
              "<style>#sk-container-id-3 {color: black;}#sk-container-id-3 pre{padding: 0;}#sk-container-id-3 div.sk-toggleable {background-color: white;}#sk-container-id-3 label.sk-toggleable__label {cursor: pointer;display: block;width: 100%;margin-bottom: 0;padding: 0.3em;box-sizing: border-box;text-align: center;}#sk-container-id-3 label.sk-toggleable__label-arrow:before {content: \"▸\";float: left;margin-right: 0.25em;color: #696969;}#sk-container-id-3 label.sk-toggleable__label-arrow:hover:before {color: black;}#sk-container-id-3 div.sk-estimator:hover label.sk-toggleable__label-arrow:before {color: black;}#sk-container-id-3 div.sk-toggleable__content {max-height: 0;max-width: 0;overflow: hidden;text-align: left;background-color: #f0f8ff;}#sk-container-id-3 div.sk-toggleable__content pre {margin: 0.2em;color: black;border-radius: 0.25em;background-color: #f0f8ff;}#sk-container-id-3 input.sk-toggleable__control:checked~div.sk-toggleable__content {max-height: 200px;max-width: 100%;overflow: auto;}#sk-container-id-3 input.sk-toggleable__control:checked~label.sk-toggleable__label-arrow:before {content: \"▾\";}#sk-container-id-3 div.sk-estimator input.sk-toggleable__control:checked~label.sk-toggleable__label {background-color: #d4ebff;}#sk-container-id-3 div.sk-label input.sk-toggleable__control:checked~label.sk-toggleable__label {background-color: #d4ebff;}#sk-container-id-3 input.sk-hidden--visually {border: 0;clip: rect(1px 1px 1px 1px);clip: rect(1px, 1px, 1px, 1px);height: 1px;margin: -1px;overflow: hidden;padding: 0;position: absolute;width: 1px;}#sk-container-id-3 div.sk-estimator {font-family: monospace;background-color: #f0f8ff;border: 1px dotted black;border-radius: 0.25em;box-sizing: border-box;margin-bottom: 0.5em;}#sk-container-id-3 div.sk-estimator:hover {background-color: #d4ebff;}#sk-container-id-3 div.sk-parallel-item::after {content: \"\";width: 100%;border-bottom: 1px solid gray;flex-grow: 1;}#sk-container-id-3 div.sk-label:hover label.sk-toggleable__label {background-color: #d4ebff;}#sk-container-id-3 div.sk-serial::before {content: \"\";position: absolute;border-left: 1px solid gray;box-sizing: border-box;top: 0;bottom: 0;left: 50%;z-index: 0;}#sk-container-id-3 div.sk-serial {display: flex;flex-direction: column;align-items: center;background-color: white;padding-right: 0.2em;padding-left: 0.2em;position: relative;}#sk-container-id-3 div.sk-item {position: relative;z-index: 1;}#sk-container-id-3 div.sk-parallel {display: flex;align-items: stretch;justify-content: center;background-color: white;position: relative;}#sk-container-id-3 div.sk-item::before, #sk-container-id-3 div.sk-parallel-item::before {content: \"\";position: absolute;border-left: 1px solid gray;box-sizing: border-box;top: 0;bottom: 0;left: 50%;z-index: -1;}#sk-container-id-3 div.sk-parallel-item {display: flex;flex-direction: column;z-index: 1;position: relative;background-color: white;}#sk-container-id-3 div.sk-parallel-item:first-child::after {align-self: flex-end;width: 50%;}#sk-container-id-3 div.sk-parallel-item:last-child::after {align-self: flex-start;width: 50%;}#sk-container-id-3 div.sk-parallel-item:only-child::after {width: 0;}#sk-container-id-3 div.sk-dashed-wrapped {border: 1px dashed gray;margin: 0 0.4em 0.5em 0.4em;box-sizing: border-box;padding-bottom: 0.4em;background-color: white;}#sk-container-id-3 div.sk-label label {font-family: monospace;font-weight: bold;display: inline-block;line-height: 1.2em;}#sk-container-id-3 div.sk-label-container {text-align: center;}#sk-container-id-3 div.sk-container {/* jupyter's `normalize.less` sets `[hidden] { display: none; }` but bootstrap.min.css set `[hidden] { display: none !important; }` so we also need the `!important` here to be able to override the default hidden behavior on the sphinx rendered scikit-learn.org. See: https://github.com/scikit-learn/scikit-learn/issues/21755 */display: inline-block !important;position: relative;}#sk-container-id-3 div.sk-text-repr-fallback {display: none;}</style><div id=\"sk-container-id-3\" class=\"sk-top-container\"><div class=\"sk-text-repr-fallback\"><pre>GridSearchCV(cv=5, estimator=SVC(random_state=42), n_jobs=-1,\n",
              "             param_grid={&#x27;C&#x27;: [0.01, 0.1, 1, 10, 100],\n",
              "                         &#x27;gamma&#x27;: [0.001, 0.01, 0.1, 1, 10],\n",
              "                         &#x27;kernel&#x27;: [&#x27;linear&#x27;, &#x27;rbf&#x27;]},\n",
              "             scoring=&#x27;accuracy&#x27;, verbose=2)</pre><b>In a Jupyter environment, please rerun this cell to show the HTML representation or trust the notebook. <br />On GitHub, the HTML representation is unable to render, please try loading this page with nbviewer.org.</b></div><div class=\"sk-container\" hidden><div class=\"sk-item sk-dashed-wrapped\"><div class=\"sk-label-container\"><div class=\"sk-label sk-toggleable\"><input class=\"sk-toggleable__control sk-hidden--visually\" id=\"sk-estimator-id-5\" type=\"checkbox\" ><label for=\"sk-estimator-id-5\" class=\"sk-toggleable__label sk-toggleable__label-arrow\">GridSearchCV</label><div class=\"sk-toggleable__content\"><pre>GridSearchCV(cv=5, estimator=SVC(random_state=42), n_jobs=-1,\n",
              "             param_grid={&#x27;C&#x27;: [0.01, 0.1, 1, 10, 100],\n",
              "                         &#x27;gamma&#x27;: [0.001, 0.01, 0.1, 1, 10],\n",
              "                         &#x27;kernel&#x27;: [&#x27;linear&#x27;, &#x27;rbf&#x27;]},\n",
              "             scoring=&#x27;accuracy&#x27;, verbose=2)</pre></div></div></div><div class=\"sk-parallel\"><div class=\"sk-parallel-item\"><div class=\"sk-item\"><div class=\"sk-label-container\"><div class=\"sk-label sk-toggleable\"><input class=\"sk-toggleable__control sk-hidden--visually\" id=\"sk-estimator-id-6\" type=\"checkbox\" ><label for=\"sk-estimator-id-6\" class=\"sk-toggleable__label sk-toggleable__label-arrow\">estimator: SVC</label><div class=\"sk-toggleable__content\"><pre>SVC(random_state=42)</pre></div></div></div><div class=\"sk-serial\"><div class=\"sk-item\"><div class=\"sk-estimator sk-toggleable\"><input class=\"sk-toggleable__control sk-hidden--visually\" id=\"sk-estimator-id-7\" type=\"checkbox\" ><label for=\"sk-estimator-id-7\" class=\"sk-toggleable__label sk-toggleable__label-arrow\">SVC</label><div class=\"sk-toggleable__content\"><pre>SVC(random_state=42)</pre></div></div></div></div></div></div></div></div></div></div>"
            ]
          },
          "metadata": {},
          "execution_count": 42
        }
      ]
    },
    {
      "cell_type": "code",
      "source": [
        "# Best parameters and score\n",
        "print(\"Best Parameters:\", grid_search.best_params_)\n",
        "print(\"Best Score:\", grid_search.best_score_)"
      ],
      "metadata": {
        "colab": {
          "base_uri": "https://localhost:8080/"
        },
        "id": "PMVMBUwRGkvG",
        "outputId": "55c957c3-f612-4c09-ca8a-18ba65b5f20a"
      },
      "execution_count": null,
      "outputs": [
        {
          "output_type": "stream",
          "name": "stdout",
          "text": [
            "Best Parameters: {'C': 10, 'gamma': 0.1, 'kernel': 'rbf'}\n",
            "Best Score: 0.7719254798221422\n"
          ]
        }
      ]
    },
    {
      "cell_type": "code",
      "source": [
        "# Retrain SVC with best parameters\n",
        "best_svc_model = grid_search.best_estimator_\n",
        "y_pred_best = best_svc_model.predict(X_test)"
      ],
      "metadata": {
        "id": "udmbnyIPGgI5"
      },
      "execution_count": null,
      "outputs": []
    },
    {
      "cell_type": "code",
      "source": [
        "# Final evaluation\n",
        "print(\"Final Model Accuracy:\", accuracy_score(y_test, y_pred_best))\n",
        "print(\"Final Classification Report:\\n\", classification_report(y_test, y_pred_best))\n",
        "print(\"Final Confusion Matrix:\\n\", confusion_matrix(y_test, y_pred_best))"
      ],
      "metadata": {
        "colab": {
          "base_uri": "https://localhost:8080/"
        },
        "id": "lKkk82W1GgGq",
        "outputId": "681eef7f-1931-4ce2-e82c-5fdfd7610a73"
      },
      "execution_count": null,
      "outputs": [
        {
          "output_type": "stream",
          "name": "stdout",
          "text": [
            "Final Model Accuracy: 0.7549019607843137\n",
            "Final Classification Report:\n",
            "               precision    recall  f1-score   support\n",
            "\n",
            "       angry       0.77      0.83      0.80       139\n",
            "       happy       0.75      0.69      0.72       142\n",
            "         sad       0.74      0.75      0.74       127\n",
            "\n",
            "    accuracy                           0.75       408\n",
            "   macro avg       0.75      0.76      0.75       408\n",
            "weighted avg       0.75      0.75      0.75       408\n",
            "\n",
            "Final Confusion Matrix:\n",
            " [[115  13  11]\n",
            " [ 21  98  23]\n",
            " [ 13  19  95]]\n"
          ]
        }
      ]
    },
    {
      "cell_type": "code",
      "source": [
        "from sklearn.model_selection import cross_val_score\n",
        "\n",
        "# Cross-validate the best model\n",
        "cv_scores = cross_val_score(best_svc_model, X_train, y_train, cv=5, scoring='accuracy')\n",
        "\n",
        "print(\"Cross-validation Scores:\", cv_scores)\n",
        "print(\"Mean CV Accuracy:\", np.mean(cv_scores))\n"
      ],
      "metadata": {
        "colab": {
          "base_uri": "https://localhost:8080/"
        },
        "id": "zjUt9stsICqU",
        "outputId": "6f9ecddd-f69e-43de-f020-efaccab42477"
      },
      "execution_count": null,
      "outputs": [
        {
          "output_type": "stream",
          "name": "stdout",
          "text": [
            "Cross-validation Scores: [0.76146789 0.79447853 0.79141104 0.75460123 0.75766871]\n",
            "Mean CV Accuracy: 0.7719254798221422\n"
          ]
        }
      ]
    },
    {
      "cell_type": "markdown",
      "source": [
        "SVC model accuray is 83%\n",
        "where as the accuray after hyperparameter has dropped to 77%\n",
        "so the SVC model is finalized"
      ],
      "metadata": {
        "id": "hhY_Re8rIxIL"
      }
    },
    {
      "cell_type": "markdown",
      "source": [
        "# **Model Evaluation**"
      ],
      "metadata": {
        "id": "ebU2karmJBtK"
      }
    },
    {
      "cell_type": "code",
      "source": [
        "from sklearn.metrics import classification_report, confusion_matrix, accuracy_score\n",
        "from sklearn.model_selection import cross_val_score\n",
        "import matplotlib.pyplot as plt\n",
        "import seaborn as sns\n",
        "import numpy as np"
      ],
      "metadata": {
        "id": "AZlTbJraI7MA"
      },
      "execution_count": null,
      "outputs": []
    },
    {
      "cell_type": "code",
      "source": [
        "\n",
        "# Evaluate the model on the test set\n",
        "def evaluate_model(model, X_test, y_test):\n",
        "    y_pred = model.predict(X_test)\n",
        "\n",
        "    accuracy = accuracy_score(y_test, y_pred)\n",
        "    print(\"Final Model Accuracy:\", accuracy)\n",
        "\n",
        "    print(\"Final Classification Report:\\n\", classification_report(y_test, y_pred))\n",
        "\n",
        "    conf_matrix = confusion_matrix(y_test, y_pred)\n",
        "    print(\"Final Confusion Matrix:\\n\", conf_matrix)\n",
        "\n",
        "    return accuracy, conf_matrix\n",
        "\n"
      ],
      "metadata": {
        "id": "jwJv4TrTJXZ1"
      },
      "execution_count": null,
      "outputs": []
    },
    {
      "cell_type": "code",
      "source": [
        "# Cross-validate the model\n",
        "def cross_validate_model(model, X_train, y_train):\n",
        "    cv_scores = cross_val_score(model, X_train, y_train, cv=5, scoring='accuracy')\n",
        "    print(\"Cross-validation Scores:\", cv_scores)\n",
        "    print(\"Mean CV Accuracy:\", np.mean(cv_scores))\n",
        "    return cv_scores\n",
        "\n"
      ],
      "metadata": {
        "id": "4W9Z1uwvJXWO"
      },
      "execution_count": null,
      "outputs": []
    },
    {
      "cell_type": "code",
      "source": [
        "# Plot confusion matrix\n",
        "def plot_confusion_matrix(conf_matrix, class_labels):\n",
        "    plt.figure(figsize=(10, 7))\n",
        "    sns.heatmap(conf_matrix, annot=True, fmt='d', cmap='Blues', xticklabels=class_labels, yticklabels=class_labels)\n",
        "    plt.xlabel('Predicted Labels')\n",
        "    plt.ylabel('True Labels')\n",
        "    plt.title('Confusion Matrix')\n",
        "    plt.show()\n"
      ],
      "metadata": {
        "id": "JbRGvyMHJXT4"
      },
      "execution_count": null,
      "outputs": []
    },
    {
      "cell_type": "code",
      "source": [
        "\n",
        "# Evaluate the model\n",
        "accuracy, conf_matrix = evaluate_model(svc_model, X_test, y_test)"
      ],
      "metadata": {
        "colab": {
          "base_uri": "https://localhost:8080/"
        },
        "id": "0sbxegLeJXRT",
        "outputId": "98ad871d-2c2a-4a87-8414-02ab490b2233"
      },
      "execution_count": null,
      "outputs": [
        {
          "output_type": "stream",
          "name": "stdout",
          "text": [
            "Final Model Accuracy: 0.821078431372549\n",
            "Final Classification Report:\n",
            "               precision    recall  f1-score   support\n",
            "\n",
            "       angry       0.87      0.83      0.85       139\n",
            "       happy       0.74      0.89      0.81       142\n",
            "         sad       0.89      0.72      0.80       127\n",
            "\n",
            "    accuracy                           0.82       408\n",
            "   macro avg       0.83      0.82      0.82       408\n",
            "weighted avg       0.83      0.82      0.82       408\n",
            "\n",
            "Final Confusion Matrix:\n",
            " [[116  21   2]\n",
            " [  6 127   9]\n",
            " [ 11  24  92]]\n",
            "Cross-validation Scores: [0.74617737 0.80368098 0.75766871 0.75766871 0.74846626]\n",
            "Mean CV Accuracy: 0.7627324065214536\n"
          ]
        }
      ]
    },
    {
      "cell_type": "code",
      "source": [
        "\n",
        "# Cross-validate the model\n",
        "cv_scores = cross_validate_model(svc_model, X_train, y_train)"
      ],
      "metadata": {
        "colab": {
          "base_uri": "https://localhost:8080/"
        },
        "id": "GJw-eQX1KCBp",
        "outputId": "96c281b6-eeda-4844-a4da-fb890a2ae475"
      },
      "execution_count": null,
      "outputs": [
        {
          "output_type": "stream",
          "name": "stdout",
          "text": [
            "Cross-validation Scores: [0.74617737 0.80368098 0.75766871 0.75766871 0.74846626]\n",
            "Mean CV Accuracy: 0.7627324065214536\n"
          ]
        }
      ]
    },
    {
      "cell_type": "code",
      "source": [
        "# Plot confusion matrix\n",
        "class_labels = ['angry', 'happy', 'sad']\n",
        "plot_confusion_matrix(conf_matrix, class_labels)"
      ],
      "metadata": {
        "colab": {
          "base_uri": "https://localhost:8080/",
          "height": 641
        },
        "id": "WD9eC8FeJXO4",
        "outputId": "03daf2de-e63e-420a-c29f-3acab3ff298c"
      },
      "execution_count": null,
      "outputs": [
        {
          "output_type": "display_data",
          "data": {
            "text/plain": [
              "<Figure size 1000x700 with 2 Axes>"
            ],
            "image/png": "[encoded data removed]"
          },
          "metadata": {}
        }
      ]
    }
  ]
}